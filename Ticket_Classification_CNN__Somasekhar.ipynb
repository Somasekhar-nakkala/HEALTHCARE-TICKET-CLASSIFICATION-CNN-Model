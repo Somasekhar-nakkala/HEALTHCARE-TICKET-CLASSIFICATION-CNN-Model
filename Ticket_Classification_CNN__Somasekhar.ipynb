{
 "cells": [
  {
   "cell_type": "code",
   "execution_count": 1,
   "metadata": {},
   "outputs": [
    {
     "name": "stderr",
     "output_type": "stream",
     "text": [
      "Using TensorFlow backend.\n"
     ]
    }
   ],
   "source": [
    "\n",
    "import numpy as np\n",
    "import pandas as pd\n",
    "import tensorflow as tf\n",
    "import keras as k\n",
    "\n",
    "from sklearn.preprocessing import LabelEncoder\n",
    "from keras.preprocessing.text import Tokenizer\n",
    "from keras.preprocessing.sequence import pad_sequences\n",
    "from keras.utils import to_categorical\n",
    "from keras.layers import Dense, Input, Flatten,Dropout,BatchNormalization,Lambda\n",
    "from keras.layers import Conv1D,MaxPool1D,GlobalMaxPool1D,Embedding\n",
    "from keras.layers import LSTM,GRU,RNN, CuDNNLSTM,CuDNNGRU\n",
    "from keras.models import Sequential\n",
    "from keras.optimizers import Adam, Adagrad,Adadelta,Nadam\n",
    "from keras import callbacks\n",
    "from keras import regularizers\n",
    "from keras.utils import plot_model\n",
    "from keras.models import load_model\n",
    "\n",
    "from matplotlib import pyplot as plt \n",
    "%matplotlib inline"
   ]
  },
  {
   "cell_type": "code",
   "execution_count": 2,
   "metadata": {},
   "outputs": [],
   "source": [
    "train = pd.read_csv(\"D:/INSOFE/Material/20190224_Batch52_CSE7321c_CUTe/train_data.csv\",na_values= [\"\"], encoding= \"utf-8\")\n",
    "test = pd.read_csv(\"D:/INSOFE/Material/20190224_Batch52_CSE7321c_CUTe/test_data.csv\",na_values= [\"\"], encoding= \"utf-8\")"
   ]
  },
  {
   "cell_type": "code",
   "execution_count": 3,
   "metadata": {},
   "outputs": [
    {
     "data": {
      "text/plain": [
       "'1.12.0'"
      ]
     },
     "execution_count": 3,
     "metadata": {},
     "output_type": "execute_result"
    }
   ],
   "source": [
    "tf.__version__"
   ]
  },
  {
   "cell_type": "code",
   "execution_count": 4,
   "metadata": {},
   "outputs": [
    {
     "data": {
      "text/plain": [
       "'2.2.4'"
      ]
     },
     "execution_count": 4,
     "metadata": {},
     "output_type": "execute_result"
    }
   ],
   "source": [
    "k.__version__"
   ]
  },
  {
   "cell_type": "code",
   "execution_count": 5,
   "metadata": {},
   "outputs": [
    {
     "data": {
      "text/html": [
       "<div>\n",
       "<style scoped>\n",
       "    .dataframe tbody tr th:only-of-type {\n",
       "        vertical-align: middle;\n",
       "    }\n",
       "\n",
       "    .dataframe tbody tr th {\n",
       "        vertical-align: top;\n",
       "    }\n",
       "\n",
       "    .dataframe thead th {\n",
       "        text-align: right;\n",
       "    }\n",
       "</style>\n",
       "<table border=\"1\" class=\"dataframe\">\n",
       "  <thead>\n",
       "    <tr style=\"text-align: right;\">\n",
       "      <th></th>\n",
       "      <th>categories</th>\n",
       "      <th>converse</th>\n",
       "    </tr>\n",
       "  </thead>\n",
       "  <tbody>\n",
       "    <tr>\n",
       "      <th>0</th>\n",
       "      <td>QUERIES FROM PHARMACY</td>\n",
       "      <td>please to verify instructions for drugname pat...</td>\n",
       "    </tr>\n",
       "    <tr>\n",
       "      <th>1</th>\n",
       "      <td>NEW APPOINTMENT</td>\n",
       "      <td>lmovm for patients mother to and schd rov trac...</td>\n",
       "    </tr>\n",
       "    <tr>\n",
       "      <th>2</th>\n",
       "      <td>OTHERS</td>\n",
       "      <td>labtype and insurance approval other incoming ...</td>\n",
       "    </tr>\n",
       "    <tr>\n",
       "      <th>3</th>\n",
       "      <td>OTHERS</td>\n",
       "      <td>clinical list changes medfusion secure electro...</td>\n",
       "    </tr>\n",
       "    <tr>\n",
       "      <th>4</th>\n",
       "      <td>MEDICATION RELATED</td>\n",
       "      <td>wants to wean off medication work phone name d...</td>\n",
       "    </tr>\n",
       "  </tbody>\n",
       "</table>\n",
       "</div>"
      ],
      "text/plain": [
       "              categories                                           converse\n",
       "0  QUERIES FROM PHARMACY  please to verify instructions for drugname pat...\n",
       "1        NEW APPOINTMENT  lmovm for patients mother to and schd rov trac...\n",
       "2                 OTHERS  labtype and insurance approval other incoming ...\n",
       "3                 OTHERS  clinical list changes medfusion secure electro...\n",
       "4     MEDICATION RELATED  wants to wean off medication work phone name d..."
      ]
     },
     "execution_count": 5,
     "metadata": {},
     "output_type": "execute_result"
    }
   ],
   "source": [
    "train.head()"
   ]
  },
  {
   "cell_type": "code",
   "execution_count": 6,
   "metadata": {},
   "outputs": [
    {
     "data": {
      "text/html": [
       "<div>\n",
       "<style scoped>\n",
       "    .dataframe tbody tr th:only-of-type {\n",
       "        vertical-align: middle;\n",
       "    }\n",
       "\n",
       "    .dataframe tbody tr th {\n",
       "        vertical-align: top;\n",
       "    }\n",
       "\n",
       "    .dataframe thead th {\n",
       "        text-align: right;\n",
       "    }\n",
       "</style>\n",
       "<table border=\"1\" class=\"dataframe\">\n",
       "  <thead>\n",
       "    <tr style=\"text-align: right;\">\n",
       "      <th></th>\n",
       "      <th>id</th>\n",
       "      <th>converse</th>\n",
       "    </tr>\n",
       "  </thead>\n",
       "  <tbody>\n",
       "    <tr>\n",
       "      <th>0</th>\n",
       "      <td>1</td>\n",
       "      <td>request to speak with rn no given patients ref...</td>\n",
       "    </tr>\n",
       "    <tr>\n",
       "      <th>1</th>\n",
       "      <td>2</td>\n",
       "      <td>patients husband ret name spouse for other pat...</td>\n",
       "    </tr>\n",
       "    <tr>\n",
       "      <th>2</th>\n",
       "      <td>3</td>\n",
       "      <td>fyi in his szs mom other he has an appointment...</td>\n",
       "    </tr>\n",
       "    <tr>\n",
       "      <th>3</th>\n",
       "      <td>4</td>\n",
       "      <td>Rx refill drugname from pharmacy name reason f...</td>\n",
       "    </tr>\n",
       "    <tr>\n",
       "      <th>4</th>\n",
       "      <td>5</td>\n",
       "      <td>need more time for testing dad is requesting a...</td>\n",
       "    </tr>\n",
       "  </tbody>\n",
       "</table>\n",
       "</div>"
      ],
      "text/plain": [
       "   id                                           converse\n",
       "0   1  request to speak with rn no given patients ref...\n",
       "1   2  patients husband ret name spouse for other pat...\n",
       "2   3  fyi in his szs mom other he has an appointment...\n",
       "3   4  Rx refill drugname from pharmacy name reason f...\n",
       "4   5  need more time for testing dad is requesting a..."
      ]
     },
     "execution_count": 6,
     "metadata": {},
     "output_type": "execute_result"
    }
   ],
   "source": [
    "test.head()"
   ]
  },
  {
   "cell_type": "code",
   "execution_count": 7,
   "metadata": {},
   "outputs": [
    {
     "name": "stdout",
     "output_type": "stream",
     "text": [
      "(48699, 2)\n",
      "(8581, 2)\n"
     ]
    }
   ],
   "source": [
    "print(train.shape)\n",
    "print(test.shape)"
   ]
  },
  {
   "cell_type": "code",
   "execution_count": 8,
   "metadata": {},
   "outputs": [
    {
     "name": "stdout",
     "output_type": "stream",
     "text": [
      "categories    object\n",
      "converse      object\n",
      "dtype: object\n",
      "id           int64\n",
      "converse    object\n",
      "dtype: object\n"
     ]
    }
   ],
   "source": [
    "print(train.dtypes)\n",
    "print(test.dtypes)"
   ]
  },
  {
   "cell_type": "markdown",
   "metadata": {},
   "source": [
    "### Preprocessing"
   ]
  },
  {
   "cell_type": "code",
   "execution_count": 10,
   "metadata": {},
   "outputs": [],
   "source": [
    "train[\"categories\"] = train[\"categories\"].astype(str)\n",
    "train[\"converse\"] = train[\"converse\"].astype(str)\n",
    "test[\"converse\"] = test[\"converse\"].astype(str)"
   ]
  },
  {
   "cell_type": "code",
   "execution_count": 11,
   "metadata": {},
   "outputs": [
    {
     "name": "stdout",
     "output_type": "stream",
     "text": [
      "(48699, 2)\n",
      "(8581, 2)\n"
     ]
    }
   ],
   "source": [
    "print(train.shape)\n",
    "print(test.shape)"
   ]
  },
  {
   "cell_type": "code",
   "execution_count": 12,
   "metadata": {},
   "outputs": [
    {
     "name": "stdout",
     "output_type": "stream",
     "text": [
      "Max length: 2440\n",
      "Mean length: 473.03648945563566\n",
      "Min length: 3\n"
     ]
    }
   ],
   "source": [
    "print(\"Max length: %s\" %train.converse.str.len().max())\n",
    "print(\"Mean length: %s\" %train.converse.str.len().mean())\n",
    "print(\"Min length: %s\" %train.converse.str.len().min())"
   ]
  },
  {
   "cell_type": "code",
   "execution_count": 15,
   "metadata": {},
   "outputs": [],
   "source": [
    "MAX_SEQ_LEN = 450\n",
    "VOCAB_SIZE = 20000"
   ]
  },
  {
   "cell_type": "code",
   "execution_count": 16,
   "metadata": {},
   "outputs": [],
   "source": [
    "tokenizer = Tokenizer(num_words = VOCAB_SIZE)\n",
    "tokenizer.fit_on_texts(train[\"converse\"])\n",
    "\n",
    "train_sequences = tokenizer.texts_to_sequences(train[\"converse\"])\n",
    "test_sequences = tokenizer.texts_to_sequences(test[\"converse\"])"
   ]
  },
  {
   "cell_type": "code",
   "execution_count": 17,
   "metadata": {},
   "outputs": [
    {
     "name": "stdout",
     "output_type": "stream",
     "text": [
      "Found 35747 unique tokens.\n"
     ]
    }
   ],
   "source": [
    "word_index = tokenizer.word_index\n",
    "print('Found %s unique tokens.' % len(word_index))"
   ]
  },
  {
   "cell_type": "code",
   "execution_count": 18,
   "metadata": {},
   "outputs": [
    {
     "name": "stdout",
     "output_type": "stream",
     "text": [
      "(48699, 450)\n",
      "(8581, 450)\n"
     ]
    }
   ],
   "source": [
    "train_data = pad_sequences(train_sequences, maxlen= MAX_SEQ_LEN)\n",
    "test_data = pad_sequences(test_sequences, maxlen= MAX_SEQ_LEN)\n",
    "print(train_data.shape)\n",
    "print(test_data.shape)"
   ]
  },
  {
   "cell_type": "code",
   "execution_count": 19,
   "metadata": {},
   "outputs": [
    {
     "name": "stdout",
     "output_type": "stream",
     "text": [
      "20000\n"
     ]
    }
   ],
   "source": [
    "print(len(np.unique(train_data)))"
   ]
  },
  {
   "cell_type": "code",
   "execution_count": 20,
   "metadata": {},
   "outputs": [],
   "source": [
    "train_labels = train['categories']"
   ]
  },
  {
   "cell_type": "code",
   "execution_count": 21,
   "metadata": {},
   "outputs": [
    {
     "name": "stdout",
     "output_type": "stream",
     "text": [
      "['CANCELLATION' 'CHANGE OF HOSPITAL' 'CHANGE OF PHARMACY'\n",
      " 'CHANGE OF PROVIDER' 'FOLLOW UP ON PREVIOUS REQUEST' 'JUNK' 'LAB RESULTS'\n",
      " 'MEDICATION RELATED' 'NEW APPOINTMENT' 'OTHERS' 'PRIOR AUTHORIZATION'\n",
      " 'PROVIDER' 'QUERIES FROM INSURANCE FIRM' 'QUERIES FROM PHARMACY'\n",
      " 'QUERY ON CURRENT APPOINTMENT' 'REFILL' 'RESCHEDULING'\n",
      " 'RUNNING LATE TO APPOINTMENT'\n",
      " 'SHARING OF HEALTH RECORDS (FAX, E-MAIL, ETC.)'\n",
      " 'SHARING OF LAB RECORDS (FAX, E-MAIL, ETC.)' 'SYMPTOMS']\n"
     ]
    }
   ],
   "source": [
    "label_encoder = LabelEncoder()\n",
    "label_encoder.fit(train_labels)\n",
    "train_labels = label_encoder.transform(train_labels)\n",
    "\n",
    "print(label_encoder.classes_)"
   ]
  },
  {
   "cell_type": "code",
   "execution_count": 22,
   "metadata": {},
   "outputs": [
    {
     "name": "stdout",
     "output_type": "stream",
     "text": [
      "(array([ 0,  1,  2,  3,  4,  5,  6,  7,  8,  9, 10, 11, 12, 13, 14, 15, 16,\n",
      "       17, 18, 19, 20]), array([ 564,  127,   47,  811,  304,   18, 2253, 9010, 8907, 6253, 1043,\n",
      "       1677,   91, 1464,  559, 8347, 1383,  590, 3018, 1212, 1021],\n",
      "      dtype=int64))\n"
     ]
    }
   ],
   "source": [
    "print(np.unique(train_labels, return_counts = True))"
   ]
  },
  {
   "cell_type": "code",
   "execution_count": 23,
   "metadata": {},
   "outputs": [
    {
     "name": "stdout",
     "output_type": "stream",
     "text": [
      "Train tensor shape: (48699, 450)\n",
      "Train labels tensor shape: (48699, 21)\n"
     ]
    }
   ],
   "source": [
    "#convert to labels to one-hot-coded\n",
    "train_tensor = to_categorical(np.array(train_labels))\n",
    "\n",
    "print(\"Train tensor shape:\",train_data.shape)\n",
    "print(\"Train labels tensor shape:\",train_tensor.shape)"
   ]
  },
  {
   "cell_type": "markdown",
   "metadata": {},
   "source": [
    "### Building Convolutional Neural Network"
   ]
  },
  {
   "cell_type": "code",
   "execution_count": 24,
   "metadata": {},
   "outputs": [],
   "source": [
    "EMBEDDING_DIM = 100\n",
    "INITIALIZER = 'he_uniform'\n",
    "REGULARIZER = regularizers.l2(0.01)\n",
    "\n",
    "cnn_model = Sequential()\n",
    "cnn_model.add(Embedding(input_dim= VOCAB_SIZE, \n",
    "                    output_dim= EMBEDDING_DIM ,\n",
    "                    input_length= MAX_SEQ_LEN,\n",
    "                    embeddings_regularizer = REGULARIZER\n",
    "                   ))\n",
    "cnn_model.add(Conv1D(filters= 64, kernel_size= 3,activation= 'relu',\n",
    "                 kernel_initializer= INITIALIZER ,\n",
    "                 #kernel_regularizer= REGULARIZER\n",
    "                ))\n",
    "cnn_model.add(Conv1D(filters= 64, kernel_size= 5,activation= 'relu',\n",
    "                 kernel_initializer= INITIALIZER,\n",
    "                 #kernel_regularizer= REGULARIZER\n",
    "                 ))\n",
    "cnn_model.add(GlobalMaxPool1D())\n",
    "#cnn_model.add(MaxPool1D())\n",
    "cnn_model.add(Dropout(0.2))\n",
    "cnn_model.add(BatchNormalization())\n",
    "\n",
    "#cnn_model.add(Conv1D(filters= 64, kernel_size= 5,activation= 'relu',padding = 'same'))\n",
    "#cnn_model.add(Conv1D(filters= 64, kernel_size= 5,activation= 'relu',padding = 'same'))\n",
    "\n",
    "cnn_model.add(Dense(128, activation= 'relu'))\n",
    "cnn_model.add(Dropout(0.5))\n",
    "cnn_model.add(BatchNormalization())\n",
    "cnn_model.add(Dense(21,activation= 'softmax'))"
   ]
  },
  {
   "cell_type": "markdown",
   "metadata": {},
   "source": [
    "### Configure the model for training"
   ]
  },
  {
   "cell_type": "code",
   "execution_count": 25,
   "metadata": {},
   "outputs": [
    {
     "name": "stdout",
     "output_type": "stream",
     "text": [
      "_________________________________________________________________\n",
      "Layer (type)                 Output Shape              Param #   \n",
      "=================================================================\n",
      "embedding_1 (Embedding)      (None, 450, 100)          2000000   \n",
      "_________________________________________________________________\n",
      "conv1d_1 (Conv1D)            (None, 448, 64)           19264     \n",
      "_________________________________________________________________\n",
      "conv1d_2 (Conv1D)            (None, 444, 64)           20544     \n",
      "_________________________________________________________________\n",
      "global_max_pooling1d_1 (Glob (None, 64)                0         \n",
      "_________________________________________________________________\n",
      "dropout_1 (Dropout)          (None, 64)                0         \n",
      "_________________________________________________________________\n",
      "batch_normalization_1 (Batch (None, 64)                256       \n",
      "_________________________________________________________________\n",
      "dense_1 (Dense)              (None, 128)               8320      \n",
      "_________________________________________________________________\n",
      "dropout_2 (Dropout)          (None, 128)               0         \n",
      "_________________________________________________________________\n",
      "batch_normalization_2 (Batch (None, 128)               512       \n",
      "_________________________________________________________________\n",
      "dense_2 (Dense)              (None, 21)                2709      \n",
      "=================================================================\n",
      "Total params: 2,051,605\n",
      "Trainable params: 2,051,221\n",
      "Non-trainable params: 384\n",
      "_________________________________________________________________\n"
     ]
    }
   ],
   "source": [
    "adam = Adam(lr=0.001)\n",
    "#adagrad = Adagrad()\n",
    "#adadelta = Adadelta()\n",
    "#nadam = Nadam(lr=0.001)\n",
    "cnn_model.compile(loss = 'categorical_crossentropy',\n",
    "             optimizer = adam,\n",
    "             metrics = ['accuracy']\n",
    "             )\n",
    "\n",
    "cnn_model.summary()\n",
    "metric = \"val_acc\""
   ]
  },
  {
   "cell_type": "markdown",
   "metadata": {},
   "source": [
    "#### Define callbacks"
   ]
  },
  {
   "cell_type": "code",
   "execution_count": 28,
   "metadata": {},
   "outputs": [],
   "source": [
    "reduce_lr = callbacks.ReduceLROnPlateau(monitor= metric, factor= 0.1,\n",
    "                                       patience= 10, min_lr= 0.00001,\n",
    "                                       verbose= 1)\n",
    "\n",
    "early_stop = callbacks.EarlyStopping(monitor= metric, mode= 'auto',\n",
    "                                     patience= 15,\n",
    "                                    verbose= 1)\n",
    "                                    #restore_best_weights= True)\n",
    "\n",
    "#file_path = \"cnn_weights.{epoch:02d}-{val_loss:.2f}.hdf5\"\n",
    "file_path = \"D:/INSOFE/Material/20190224_Batch52_CSE7321c_CUTe/cnn_weights.csv\"\n",
    "model_chkpt = callbacks.ModelCheckpoint(filepath=file_path,monitor= metric, save_best_only=True)"
   ]
  },
  {
   "cell_type": "markdown",
   "metadata": {},
   "source": [
    "#### Fit the Model"
   ]
  },
  {
   "cell_type": "code",
   "execution_count": 29,
   "metadata": {},
   "outputs": [
    {
     "name": "stdout",
     "output_type": "stream",
     "text": [
      "Train on 38959 samples, validate on 9740 samples\n",
      "Epoch 1/1000\n",
      "38959/38959 [==============================] - 115s 3ms/step - loss: 1.3641 - acc: 0.6819 - val_loss: 1.1819 - val_acc: 0.7118\n",
      "Epoch 2/1000\n",
      "38959/38959 [==============================] - 116s 3ms/step - loss: 1.2671 - acc: 0.6981 - val_loss: 1.1374 - val_acc: 0.7192\n",
      "Epoch 3/1000\n",
      "38959/38959 [==============================] - 117s 3ms/step - loss: 1.2193 - acc: 0.7073 - val_loss: 1.1076 - val_acc: 0.7252\n",
      "Epoch 4/1000\n",
      "38959/38959 [==============================] - 118s 3ms/step - loss: 1.2025 - acc: 0.7083 - val_loss: 1.1257 - val_acc: 0.7211\n",
      "Epoch 5/1000\n",
      "38959/38959 [==============================] - 119s 3ms/step - loss: 1.1835 - acc: 0.7121 - val_loss: 1.0983 - val_acc: 0.7220\n",
      "Epoch 6/1000\n",
      "38959/38959 [==============================] - 119s 3ms/step - loss: 1.1639 - acc: 0.7150 - val_loss: 1.0944 - val_acc: 0.7291\n",
      "Epoch 7/1000\n",
      "38959/38959 [==============================] - 118s 3ms/step - loss: 1.1452 - acc: 0.7199 - val_loss: 1.0754 - val_acc: 0.7293\n",
      "Epoch 8/1000\n",
      "38959/38959 [==============================] - 120s 3ms/step - loss: 1.1428 - acc: 0.7217 - val_loss: 1.0970 - val_acc: 0.7239\n",
      "Epoch 9/1000\n",
      "38959/38959 [==============================] - 119s 3ms/step - loss: 1.1363 - acc: 0.7205 - val_loss: 1.0666 - val_acc: 0.7295\n",
      "Epoch 10/1000\n",
      "38959/38959 [==============================] - 119s 3ms/step - loss: 1.1276 - acc: 0.7214 - val_loss: 1.0746 - val_acc: 0.7275\n",
      "Epoch 11/1000\n",
      "38959/38959 [==============================] - 119s 3ms/step - loss: 1.1193 - acc: 0.7240 - val_loss: 1.0782 - val_acc: 0.7230\n",
      "Epoch 12/1000\n",
      "38959/38959 [==============================] - 119s 3ms/step - loss: 1.1075 - acc: 0.7262 - val_loss: 1.0623 - val_acc: 0.7303\n",
      "Epoch 13/1000\n",
      "38959/38959 [==============================] - 119s 3ms/step - loss: 1.1054 - acc: 0.7251 - val_loss: 1.0605 - val_acc: 0.7391\n",
      "Epoch 14/1000\n",
      "38959/38959 [==============================] - 119s 3ms/step - loss: 1.1024 - acc: 0.7257 - val_loss: 1.0686 - val_acc: 0.7332\n",
      "Epoch 15/1000\n",
      "38959/38959 [==============================] - 119s 3ms/step - loss: 1.0993 - acc: 0.7262 - val_loss: 1.0525 - val_acc: 0.7289\n",
      "Epoch 16/1000\n",
      "38959/38959 [==============================] - 119s 3ms/step - loss: 1.0909 - acc: 0.7303 - val_loss: 1.0821 - val_acc: 0.7325\n",
      "Epoch 17/1000\n",
      "38959/38959 [==============================] - 119s 3ms/step - loss: 1.0936 - acc: 0.7307 - val_loss: 1.0454 - val_acc: 0.7340\n",
      "Epoch 18/1000\n",
      "38959/38959 [==============================] - 119s 3ms/step - loss: 1.0904 - acc: 0.7304 - val_loss: 1.0606 - val_acc: 0.7331\n",
      "Epoch 19/1000\n",
      "38959/38959 [==============================] - 119s 3ms/step - loss: 1.0786 - acc: 0.7323 - val_loss: 1.0633 - val_acc: 0.7362\n",
      "Epoch 20/1000\n",
      "38959/38959 [==============================] - 119s 3ms/step - loss: 1.0830 - acc: 0.7326 - val_loss: 1.1033 - val_acc: 0.7277\n",
      "Epoch 21/1000\n",
      "38959/38959 [==============================] - 119s 3ms/step - loss: 1.0753 - acc: 0.7333 - val_loss: 1.0553 - val_acc: 0.7318\n",
      "Epoch 22/1000\n",
      "38959/38959 [==============================] - 116s 3ms/step - loss: 1.0722 - acc: 0.7360 - val_loss: 1.0569 - val_acc: 0.7304\n",
      "Epoch 23/1000\n",
      "38959/38959 [==============================] - 116s 3ms/step - loss: 1.0663 - acc: 0.7370 - val_loss: 1.0647 - val_acc: 0.7310\n",
      "\n",
      "Epoch 00023: ReduceLROnPlateau reducing learning rate to 0.00010000000474974513.\n",
      "Epoch 24/1000\n",
      "38959/38959 [==============================] - 116s 3ms/step - loss: 0.9046 - acc: 0.7584 - val_loss: 0.9110 - val_acc: 0.7422\n",
      "Epoch 25/1000\n",
      "38959/38959 [==============================] - 119s 3ms/step - loss: 0.8098 - acc: 0.7707 - val_loss: 0.8863 - val_acc: 0.7437\n",
      "Epoch 26/1000\n",
      "38959/38959 [==============================] - 120s 3ms/step - loss: 0.7683 - acc: 0.7769 - val_loss: 0.8773 - val_acc: 0.7433\n",
      "Epoch 27/1000\n",
      "38959/38959 [==============================] - 119s 3ms/step - loss: 0.7407 - acc: 0.7862 - val_loss: 0.8804 - val_acc: 0.7470\n",
      "Epoch 28/1000\n",
      "38959/38959 [==============================] - 119s 3ms/step - loss: 0.7056 - acc: 0.7932 - val_loss: 0.8849 - val_acc: 0.7441\n",
      "Epoch 29/1000\n",
      "38959/38959 [==============================] - 119s 3ms/step - loss: 0.6904 - acc: 0.8001 - val_loss: 0.9003 - val_acc: 0.7426\n",
      "Epoch 30/1000\n",
      "38959/38959 [==============================] - 118s 3ms/step - loss: 0.6708 - acc: 0.8059 - val_loss: 0.9184 - val_acc: 0.7392\n",
      "Epoch 31/1000\n",
      "38959/38959 [==============================] - 119s 3ms/step - loss: 0.6528 - acc: 0.8147 - val_loss: 0.9231 - val_acc: 0.7399\n",
      "Epoch 32/1000\n",
      "38959/38959 [==============================] - 119s 3ms/step - loss: 0.6386 - acc: 0.8198 - val_loss: 0.9431 - val_acc: 0.7368\n",
      "Epoch 33/1000\n",
      "38959/38959 [==============================] - 120s 3ms/step - loss: 0.6244 - acc: 0.8265 - val_loss: 0.9529 - val_acc: 0.7381\n",
      "Epoch 34/1000\n",
      "38959/38959 [==============================] - 120s 3ms/step - loss: 0.6071 - acc: 0.8325 - val_loss: 0.9598 - val_acc: 0.7386\n",
      "Epoch 35/1000\n",
      "38959/38959 [==============================] - 120s 3ms/step - loss: 0.5911 - acc: 0.8397 - val_loss: 0.9823 - val_acc: 0.7377\n",
      "Epoch 36/1000\n",
      "38959/38959 [==============================] - 119s 3ms/step - loss: 0.5830 - acc: 0.8439 - val_loss: 1.0003 - val_acc: 0.7356\n",
      "Epoch 37/1000\n",
      "38959/38959 [==============================] - 119s 3ms/step - loss: 0.5693 - acc: 0.8481 - val_loss: 1.0178 - val_acc: 0.7326\n",
      "\n",
      "Epoch 00037: ReduceLROnPlateau reducing learning rate to 1.0000000474974514e-05.\n",
      "Epoch 38/1000\n",
      "38959/38959 [==============================] - 119s 3ms/step - loss: 0.5210 - acc: 0.8664 - val_loss: 1.0166 - val_acc: 0.7330\n",
      "Epoch 39/1000\n",
      "38959/38959 [==============================] - 120s 3ms/step - loss: 0.5037 - acc: 0.8730 - val_loss: 1.0172 - val_acc: 0.7329\n",
      "Epoch 40/1000\n",
      "38959/38959 [==============================] - 119s 3ms/step - loss: 0.4916 - acc: 0.8772 - val_loss: 1.0175 - val_acc: 0.7345\n",
      "Epoch 41/1000\n",
      "38959/38959 [==============================] - 119s 3ms/step - loss: 0.4840 - acc: 0.8774 - val_loss: 1.0191 - val_acc: 0.7339\n",
      "Epoch 42/1000\n",
      "38959/38959 [==============================] - 119s 3ms/step - loss: 0.4762 - acc: 0.8790 - val_loss: 1.0187 - val_acc: 0.7335\n",
      "Epoch 00042: early stopping\n"
     ]
    }
   ],
   "source": [
    "history = cnn_model.fit(train_data , train_tensor ,\n",
    "         batch_size = 64, shuffle = True,\n",
    "         epochs=1000,validation_split = 0.2,\n",
    "         callbacks = [reduce_lr,early_stop,model_chkpt]\n",
    "         )"
   ]
  },
  {
   "cell_type": "markdown",
   "metadata": {},
   "source": [
    "#### Capture the model metrics"
   ]
  },
  {
   "cell_type": "code",
   "execution_count": 30,
   "metadata": {},
   "outputs": [],
   "source": [
    "train_acc = history.history['acc']\n",
    "train_loss = history.history['loss']\n",
    "\n",
    "val_acc = history.history['val_acc']\n",
    "val_loss = history.history['val_loss']"
   ]
  },
  {
   "cell_type": "markdown",
   "metadata": {},
   "source": [
    "#### Plot the Model accuracies and losses"
   ]
  },
  {
   "cell_type": "code",
   "execution_count": 31,
   "metadata": {},
   "outputs": [
    {
     "data": {
      "image/png": "[encoded data removed]",
      "text/plain": [
       "<Figure size 1440x360 with 2 Axes>"
      ]
     },
     "metadata": {
      "needs_background": "light"
     },
     "output_type": "display_data"
    }
   ],
   "source": [
    "plt.figure(figsize=(20,5))\n",
    "ax = plt.subplot(1,2,1)\n",
    "ax.set_title(\"Model Loss\")\n",
    "plt.xlabel('Epochs')\n",
    "plt.ylabel('Loss')\n",
    "plt.plot(train_loss , label =\"Train Loss\")\n",
    "plt.plot(val_loss, label =\"Val Loss\")\n",
    "plt.legend()\n",
    "\n",
    "ax = plt.subplot(1,2,2)\n",
    "ax.set_title(\"Model Accuracy\")\n",
    "plt.xlabel('Epochs')\n",
    "plt.ylabel('Accuracy')\n",
    "plt.plot(train_acc, label = \"Train Accuracy\")\n",
    "plt.plot(val_acc, label = \"Val Accuracy\")\n",
    "plt.legend()\n",
    "plt.show();"
   ]
  },
  {
   "cell_type": "code",
   "execution_count": 33,
   "metadata": {},
   "outputs": [
    {
     "name": "stdout",
     "output_type": "stream",
     "text": [
      "48699/48699 [==============================] - 35s 725us/step\n",
      "Train Loss: 0.652126 Train Accuracy: 0.809401\n"
     ]
    }
   ],
   "source": [
    "best_weights_cnn = load_model(file_path)\n",
    "evaluation = best_weights_cnn.evaluate(train_data,train_tensor)\n",
    "print(\"Train Loss: %f\"%evaluation[0] , \"Train Accuracy: %f\"%evaluation[1])"
   ]
  },
  {
   "cell_type": "code",
   "execution_count": 34,
   "metadata": {},
   "outputs": [],
   "source": [
    "test_preds = best_weights_cnn.predict_classes(test_data)\n",
    "result1_df = pd.DataFrame({\"id\" : test[\"id\"]})\n",
    "result1_df[\"categories\"] = label_encoder.classes_[test_preds]\n",
    "#print(result1_df.shape)\n",
    "#result1_df.head()\n",
    "result1_df.to_csv(\"D:/INSOFE/Material/20190224_Batch52_CSE7321c_CUTe/cnn_testweights.csv\", index=False)"
   ]
  },
  {
   "cell_type": "code",
   "execution_count": null,
   "metadata": {},
   "outputs": [],
   "source": []
  }
 ],
 "metadata": {
  "kernelspec": {
   "display_name": "Python 3",
   "language": "python",
   "name": "python3"
  },
  "language_info": {
   "codemirror_mode": {
    "name": "ipython",
    "version": 3
   },
   "file_extension": ".py",
   "mimetype": "text/x-python",
   "name": "python",
   "nbconvert_exporter": "python",
   "pygments_lexer": "ipython3",
   "version": "3.7.1"
  }
 },
 "nbformat": 4,
 "nbformat_minor": 2
}
